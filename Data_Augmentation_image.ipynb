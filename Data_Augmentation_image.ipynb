{
 "cells": [
  {
   "cell_type": "code",
   "execution_count": 1,
   "id": "bc3fffcd",
   "metadata": {
    "scrolled": true
   },
   "outputs": [
    {
     "name": "stderr",
     "output_type": "stream",
     "text": [
      "C:\\Users\\ashut\\anaconda3\\lib\\site-packages\\scipy\\__init__.py:146: UserWarning: A NumPy version >=1.16.5 and <1.23.0 is required for this version of SciPy (detected version 1.26.4\n",
      "  warnings.warn(f\"A NumPy version >={np_minversion} and <{np_maxversion}\"\n"
     ]
    },
    {
     "name": "stdout",
     "output_type": "stream",
     "text": [
      "WARNING:tensorflow:From C:\\Users\\ashut\\anaconda3\\lib\\site-packages\\keras\\src\\losses.py:2976: The name tf.losses.sparse_softmax_cross_entropy is deprecated. Please use tf.compat.v1.losses.sparse_softmax_cross_entropy instead.\n",
      "\n"
     ]
    }
   ],
   "source": [
    "import numpy as np\n",
    "import pandas as pd \n",
    "import matplotlib.pyplot as plt\n",
    "import tensorflow as tf\n",
    "from tensorflow import keras\n",
    "from tensorflow.keras import Sequential\n",
    "from tensorflow.keras.layers import Dense\n",
    "from tensorflow.keras.preprocessing.image import ImageDataGenerator"
   ]
  },
  {
   "cell_type": "code",
   "execution_count": 2,
   "id": "c7738215",
   "metadata": {},
   "outputs": [],
   "source": [
    "train_datagen = ImageDataGenerator(\n",
    "    rescale=1./255,\n",
    "    rotation_range=20,\n",
    "    width_shift_range=0.2,\n",
    "    height_shift_range=0.2,\n",
    "    shear_range=0.2,\n",
    "    zoom_range=0.2,\n",
    "    horizontal_flip=True,\n",
    "    fill_mode='nearest'\n",
    ")"
   ]
  },
  {
   "cell_type": "code",
   "execution_count": 3,
   "id": "03a3dfe5",
   "metadata": {
    "scrolled": true
   },
   "outputs": [
    {
     "name": "stdout",
     "output_type": "stream",
     "text": [
      "Found 3115 images belonging to 36 classes.\n"
     ]
    }
   ],
   "source": [
    "training_set = train_datagen.flow_from_directory(\n",
    "    r'C:\\Users\\ashut\\ML Notes\\6 Month internship AIT\\Fruit_Detection\\train',\n",
    "    target_size=(64, 64),\n",
    "    batch_size=50,\n",
    "    class_mode='categorical',\n",
    "    color_mode=\"rgb\"\n",
    ")"
   ]
  },
  {
   "cell_type": "code",
   "execution_count": 4,
   "id": "3201469b",
   "metadata": {
    "scrolled": true
   },
   "outputs": [
    {
     "name": "stdout",
     "output_type": "stream",
     "text": [
      "Found 351 images belonging to 36 classes.\n"
     ]
    }
   ],
   "source": [
    "validation_datagen = ImageDataGenerator(rescale=1./255)\n",
    "validation_set = validation_datagen.flow_from_directory(\n",
    "    r'C:\\Users\\ashut\\ML Notes\\6 Month internship AIT\\Fruit_Detection\\validation',\n",
    "    target_size=(64, 64),\n",
    "    batch_size=50,\n",
    "    class_mode='categorical',\n",
    "    color_mode=\"rgb\"\n",
    ")"
   ]
  },
  {
   "cell_type": "code",
   "execution_count": 5,
   "id": "6050e60e",
   "metadata": {
    "scrolled": false
   },
   "outputs": [
    {
     "name": "stdout",
     "output_type": "stream",
     "text": [
      "WARNING:tensorflow:From C:\\Users\\ashut\\anaconda3\\lib\\site-packages\\keras\\src\\backend.py:873: The name tf.get_default_graph is deprecated. Please use tf.compat.v1.get_default_graph instead.\n",
      "\n"
     ]
    }
   ],
   "source": [
    "cnn = tf.keras.models.Sequential()\n"
   ]
  },
  {
   "cell_type": "code",
   "execution_count": 6,
   "id": "3d3d5c4f",
   "metadata": {
    "scrolled": true
   },
   "outputs": [
    {
     "name": "stdout",
     "output_type": "stream",
     "text": [
      "WARNING:tensorflow:From C:\\Users\\ashut\\anaconda3\\lib\\site-packages\\keras\\src\\layers\\pooling\\max_pooling2d.py:161: The name tf.nn.max_pool is deprecated. Please use tf.nn.max_pool2d instead.\n",
      "\n"
     ]
    }
   ],
   "source": [
    "cnn.add(tf.keras.layers.Conv2D(filters=32,kernel_size=3,padding='same',activation='relu',input_shape=[64,64,3]))\n",
    "cnn.add(tf.keras.layers.Conv2D(filters=32,kernel_size=3,activation='relu')) \n",
    "cnn.add(tf.keras.layers.MaxPool2D(pool_size=2,strides=2))\n"
   ]
  },
  {
   "cell_type": "code",
   "execution_count": 7,
   "id": "5eb8a56f",
   "metadata": {},
   "outputs": [],
   "source": [
    "cnn.add(tf.keras.layers.Dropout(0.25))\n"
   ]
  },
  {
   "cell_type": "code",
   "execution_count": 8,
   "id": "e32f8f98",
   "metadata": {},
   "outputs": [],
   "source": [
    "cnn.add(tf.keras.layers.Conv2D(filters=64,kernel_size=3,padding='same',activation='relu')) \n",
    "cnn.add(tf.keras.layers.Conv2D(filters=64,kernel_size=3,activation='relu')) \n",
    "cnn.add(tf.keras.layers.MaxPool2D(pool_size=2,strides=2))"
   ]
  },
  {
   "cell_type": "code",
   "execution_count": 9,
   "id": "9a3a338a",
   "metadata": {},
   "outputs": [],
   "source": [
    "cnn.add(tf.keras.layers.Dropout(0.25))\n"
   ]
  },
  {
   "cell_type": "code",
   "execution_count": 10,
   "id": "cd8134ed",
   "metadata": {},
   "outputs": [],
   "source": [
    "cnn.add(tf.keras.layers.Flatten())\n"
   ]
  },
  {
   "cell_type": "code",
   "execution_count": 11,
   "id": "0999c102",
   "metadata": {},
   "outputs": [],
   "source": [
    "cnn.add(tf.keras.layers.Dense(units=512,activation='relu'))\n"
   ]
  },
  {
   "cell_type": "code",
   "execution_count": 12,
   "id": "a08f9560",
   "metadata": {},
   "outputs": [],
   "source": [
    "cnn.add(tf.keras.layers.Dense(units=256,activation='relu'))\n"
   ]
  },
  {
   "cell_type": "code",
   "execution_count": 13,
   "id": "6fdf1bc4",
   "metadata": {},
   "outputs": [],
   "source": [
    "cnn.add(tf.keras.layers.Dropout(0.5)) "
   ]
  },
  {
   "cell_type": "code",
   "execution_count": 14,
   "id": "016a8be0",
   "metadata": {},
   "outputs": [],
   "source": [
    "cnn.add(tf.keras.layers.Dense(units=36,activation='softmax'))\n",
    "# Output Layer"
   ]
  },
  {
   "cell_type": "code",
   "execution_count": 15,
   "id": "dfa062f4",
   "metadata": {
    "scrolled": true
   },
   "outputs": [
    {
     "name": "stdout",
     "output_type": "stream",
     "text": [
      "WARNING:tensorflow:From C:\\Users\\ashut\\anaconda3\\lib\\site-packages\\keras\\src\\optimizers\\__init__.py:309: The name tf.train.Optimizer is deprecated. Please use tf.compat.v1.train.Optimizer instead.\n",
      "\n"
     ]
    }
   ],
   "source": [
    "cnn.compile(optimizer='adam',loss='categorical_crossentropy',metrics=['accuracy'])"
   ]
  },
  {
   "cell_type": "code",
   "execution_count": 16,
   "id": "fc22c219",
   "metadata": {
    "scrolled": false
   },
   "outputs": [
    {
     "name": "stdout",
     "output_type": "stream",
     "text": [
      "Model: \"sequential\"\n",
      "_________________________________________________________________\n",
      " Layer (type)                Output Shape              Param #   \n",
      "=================================================================\n",
      " conv2d (Conv2D)             (None, 64, 64, 32)        896       \n",
      "                                                                 \n",
      " conv2d_1 (Conv2D)           (None, 62, 62, 32)        9248      \n",
      "                                                                 \n",
      " max_pooling2d (MaxPooling2  (None, 31, 31, 32)        0         \n",
      " D)                                                              \n",
      "                                                                 \n",
      " dropout (Dropout)           (None, 31, 31, 32)        0         \n",
      "                                                                 \n",
      " conv2d_2 (Conv2D)           (None, 31, 31, 64)        18496     \n",
      "                                                                 \n",
      " conv2d_3 (Conv2D)           (None, 29, 29, 64)        36928     \n",
      "                                                                 \n",
      " max_pooling2d_1 (MaxPoolin  (None, 14, 14, 64)        0         \n",
      " g2D)                                                            \n",
      "                                                                 \n",
      " dropout_1 (Dropout)         (None, 14, 14, 64)        0         \n",
      "                                                                 \n",
      " flatten (Flatten)           (None, 12544)             0         \n",
      "                                                                 \n",
      " dense (Dense)               (None, 512)               6423040   \n",
      "                                                                 \n",
      " dense_1 (Dense)             (None, 256)               131328    \n",
      "                                                                 \n",
      " dropout_2 (Dropout)         (None, 256)               0         \n",
      "                                                                 \n",
      " dense_2 (Dense)             (None, 36)                9252      \n",
      "                                                                 \n",
      "=================================================================\n",
      "Total params: 6629188 (25.29 MB)\n",
      "Trainable params: 6629188 (25.29 MB)\n",
      "Non-trainable params: 0 (0.00 Byte)\n",
      "_________________________________________________________________\n"
     ]
    }
   ],
   "source": [
    "cnn.summary()"
   ]
  },
  {
   "cell_type": "code",
   "execution_count": null,
   "id": "e7f917e9",
   "metadata": {
    "scrolled": true
   },
   "outputs": [
    {
     "name": "stdout",
     "output_type": "stream",
     "text": [
      "Epoch 1/47\n",
      "WARNING:tensorflow:From C:\\Users\\ashut\\anaconda3\\lib\\site-packages\\keras\\src\\utils\\tf_utils.py:492: The name tf.ragged.RaggedTensorValue is deprecated. Please use tf.compat.v1.ragged.RaggedTensorValue instead.\n",
      "\n",
      "WARNING:tensorflow:From C:\\Users\\ashut\\anaconda3\\lib\\site-packages\\keras\\src\\engine\\base_layer_utils.py:384: The name tf.executing_eagerly_outside_functions is deprecated. Please use tf.compat.v1.executing_eagerly_outside_functions instead.\n",
      "\n"
     ]
    },
    {
     "name": "stderr",
     "output_type": "stream",
     "text": [
      "C:\\Users\\ashut\\anaconda3\\lib\\site-packages\\PIL\\Image.py:945: UserWarning: Palette images with Transparency expressed in bytes should be converted to RGBA images\n",
      "  warnings.warn(\n"
     ]
    },
    {
     "name": "stdout",
     "output_type": "stream",
     "text": [
      "63/63 [==============================] - 380s 6s/step - loss: 3.5470 - accuracy: 0.0433 - val_loss: 3.2735 - val_accuracy: 0.0997\n",
      "Epoch 2/47\n",
      "63/63 [==============================] - 402s 6s/step - loss: 3.2266 - accuracy: 0.0886 - val_loss: 2.7706 - val_accuracy: 0.2051\n",
      "Epoch 3/47\n",
      "63/63 [==============================] - 240s 4s/step - loss: 2.9535 - accuracy: 0.1335 - val_loss: 2.3776 - val_accuracy: 0.2365\n",
      "Epoch 4/47\n",
      "63/63 [==============================] - 157s 3s/step - loss: 2.7469 - accuracy: 0.1814 - val_loss: 2.2081 - val_accuracy: 0.3248\n",
      "Epoch 5/47\n",
      "63/63 [==============================] - 157s 2s/step - loss: 2.6466 - accuracy: 0.2032 - val_loss: 1.9425 - val_accuracy: 0.3647\n",
      "Epoch 6/47\n",
      "63/63 [==============================] - 152s 2s/step - loss: 2.5242 - accuracy: 0.2286 - val_loss: 1.9162 - val_accuracy: 0.4188\n",
      "Epoch 7/47\n",
      "63/63 [==============================] - 155s 2s/step - loss: 2.4386 - accuracy: 0.2453 - val_loss: 1.8233 - val_accuracy: 0.3989\n",
      "Epoch 8/47\n",
      "63/63 [==============================] - 159s 3s/step - loss: 2.3963 - accuracy: 0.2655 - val_loss: 1.7768 - val_accuracy: 0.4530\n",
      "Epoch 9/47\n",
      "63/63 [==============================] - 161s 3s/step - loss: 2.3265 - accuracy: 0.2806 - val_loss: 1.7008 - val_accuracy: 0.4957\n",
      "Epoch 10/47\n",
      "63/63 [==============================] - 159s 3s/step - loss: 2.2837 - accuracy: 0.2995 - val_loss: 1.7479 - val_accuracy: 0.4501\n",
      "Epoch 11/47\n",
      "63/63 [==============================] - 156s 2s/step - loss: 2.2393 - accuracy: 0.3143 - val_loss: 1.6283 - val_accuracy: 0.5014\n",
      "Epoch 12/47\n",
      "63/63 [==============================] - 156s 2s/step - loss: 2.1882 - accuracy: 0.3291 - val_loss: 1.7257 - val_accuracy: 0.4644\n",
      "Epoch 13/47\n",
      "63/63 [==============================] - 156s 2s/step - loss: 2.1782 - accuracy: 0.3230 - val_loss: 1.5638 - val_accuracy: 0.5157\n",
      "Epoch 14/47\n",
      "63/63 [==============================] - 165s 3s/step - loss: 2.1406 - accuracy: 0.3268 - val_loss: 1.4629 - val_accuracy: 0.5385\n",
      "Epoch 15/47\n",
      "63/63 [==============================] - 157s 3s/step - loss: 2.0850 - accuracy: 0.3448 - val_loss: 1.4974 - val_accuracy: 0.5128\n",
      "Epoch 16/47\n",
      "63/63 [==============================] - 152s 2s/step - loss: 2.0704 - accuracy: 0.3480 - val_loss: 1.4604 - val_accuracy: 0.5157\n",
      "Epoch 17/47\n",
      "63/63 [==============================] - 159s 3s/step - loss: 2.0585 - accuracy: 0.3615 - val_loss: 1.4581 - val_accuracy: 0.5442\n",
      "Epoch 18/47\n",
      "63/63 [==============================] - 156s 2s/step - loss: 2.0634 - accuracy: 0.3563 - val_loss: 1.3362 - val_accuracy: 0.5954\n",
      "Epoch 19/47\n",
      "63/63 [==============================] - 155s 2s/step - loss: 2.0154 - accuracy: 0.3685 - val_loss: 1.4085 - val_accuracy: 0.5670\n",
      "Epoch 20/47\n",
      "63/63 [==============================] - 161s 3s/step - loss: 1.9918 - accuracy: 0.3762 - val_loss: 1.3938 - val_accuracy: 0.5641\n",
      "Epoch 21/47\n",
      "63/63 [==============================] - 158s 3s/step - loss: 1.9664 - accuracy: 0.3766 - val_loss: 1.2953 - val_accuracy: 0.5584\n",
      "Epoch 22/47\n",
      "63/63 [==============================] - 180s 3s/step - loss: 1.9274 - accuracy: 0.4013 - val_loss: 1.3639 - val_accuracy: 0.5385\n",
      "Epoch 23/47\n",
      "63/63 [==============================] - 170s 3s/step - loss: 1.9164 - accuracy: 0.3971 - val_loss: 1.2837 - val_accuracy: 0.5755\n",
      "Epoch 24/47\n",
      "63/63 [==============================] - 167s 3s/step - loss: 1.8948 - accuracy: 0.4173 - val_loss: 1.2798 - val_accuracy: 0.6154\n",
      "Epoch 25/47\n",
      "63/63 [==============================] - 153s 2s/step - loss: 1.9006 - accuracy: 0.3958 - val_loss: 1.2130 - val_accuracy: 0.6325\n",
      "Epoch 26/47\n",
      "40/63 [==================>...........] - ETA: 54s - loss: 1.8443 - accuracy: 0.4209"
     ]
    }
   ],
   "source": [
    "training_history = cnn.fit(x=training_set,validation_data=validation_set,epochs=47,batch_size=50,verbose=1)"
   ]
  },
  {
   "cell_type": "code",
   "execution_count": null,
   "id": "0609d0b2",
   "metadata": {},
   "outputs": [],
   "source": [
    "#Training set Accuracy \n",
    "train_loss, train_acc = cnn.evaluate(training_set) \n",
    "print('Training accuracy:',( train_acc,train_loss))"
   ]
  },
  {
   "cell_type": "code",
   "execution_count": null,
   "id": "34d5be45",
   "metadata": {},
   "outputs": [],
   "source": [
    "#Validation set Accuracy \n",
    "val_loss, val_acc = cnn.evaluate(validation_set) \n",
    "print('Validation accuracy:', val_acc)"
   ]
  },
  {
   "cell_type": "code",
   "execution_count": null,
   "id": "edde9e53",
   "metadata": {},
   "outputs": [],
   "source": [
    "training_history.history "
   ]
  },
  {
   "cell_type": "code",
   "execution_count": null,
   "id": "40436390",
   "metadata": {},
   "outputs": [],
   "source": [
    "plt.plot(training_history.history['loss'])\n",
    "plt.plot(training_history.history['val_loss'])"
   ]
  },
  {
   "cell_type": "code",
   "execution_count": null,
   "id": "cfe33707",
   "metadata": {},
   "outputs": [],
   "source": [
    "# cnn.save('trained_model.h5')\n",
    "# cnn.save('trained_model_tunned1.h5')\n",
    "\n"
   ]
  },
  {
   "cell_type": "code",
   "execution_count": null,
   "id": "169dcf82",
   "metadata": {},
   "outputs": [],
   "source": [
    "# #Recording History in json \n",
    "# import json \n",
    "# with open('training_hist.json','w') as f: \n",
    "#     json.dump(training_history.history,f)\n"
   ]
  }
 ],
 "metadata": {
  "kernelspec": {
   "display_name": "Python 3 (ipykernel)",
   "language": "python",
   "name": "python3"
  },
  "language_info": {
   "codemirror_mode": {
    "name": "ipython",
    "version": 3
   },
   "file_extension": ".py",
   "mimetype": "text/x-python",
   "name": "python",
   "nbconvert_exporter": "python",
   "pygments_lexer": "ipython3",
   "version": "3.9.12"
  }
 },
 "nbformat": 4,
 "nbformat_minor": 5
}
